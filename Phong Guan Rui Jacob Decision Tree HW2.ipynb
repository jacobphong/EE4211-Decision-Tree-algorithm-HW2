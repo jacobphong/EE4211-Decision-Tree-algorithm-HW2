{
 "cells": [
  {
   "cell_type": "markdown",
   "metadata": {},
   "source": [
    "## IMPORT LIBRARIES"
   ]
  },
  {
   "cell_type": "code",
   "execution_count": 1,
   "metadata": {},
   "outputs": [],
   "source": [
    "import numpy as np\n",
    "import matplotlib.pyplot as plt\n",
    "import pandas as pd\n",
    "from sklearn.model_selection import train_test_split\n",
    "from sklearn.tree import DecisionTreeClassifier\n",
    "from sklearn.metrics import precision_score, recall_score, accuracy_score, f1_score\n",
    "from sklearn.preprocessing import LabelEncoder\n",
    "from pandas import DataFrame"
   ]
  },
  {
   "cell_type": "markdown",
   "metadata": {},
   "source": [
    "## DATA PREPOCESSING"
   ]
  },
  {
   "cell_type": "code",
   "execution_count": 2,
   "metadata": {},
   "outputs": [],
   "source": [
    "dataset = pd.read_csv('wdbc.data',header = None)\n",
    "x = dataset.iloc[ : , 2 : ].values\n",
    "y = dataset.iloc[: , 1].values\n",
    "le = LabelEncoder()\n",
    "y = le.fit_transform(y) ##Encoding the 'M' and 'B' to 1 and 0"
   ]
  },
  {
   "cell_type": "markdown",
   "metadata": {},
   "source": [
    "## Splitting the dataset into training sets and training the decision tree 20 times"
   ]
  },
  {
   "cell_type": "code",
   "execution_count": 3,
   "metadata": {},
   "outputs": [],
   "source": [
    "Performance_Result = np.array([[]]).reshape(0,10)\n",
    "for i in range (0,20):\n",
    "    m = np.array([[]])\n",
    "    ##Decision Tree 1 with information Gain\n",
    "    x_train_1, x_test_1, y_train_1, y_test_1 = train_test_split(x, y, test_size = 0.3)\n",
    "    classifier_1 = DecisionTreeClassifier(criterion = 'entropy')\n",
    "    classifier_1.fit(x_train_1, y_train_1)\n",
    "    x_pred_1 = classifier_1.predict(x_train_1)\n",
    "    y_pred_1 = classifier_1.predict(x_test_1)\n",
    "    \n",
    "    m = np.append(m, [[accuracy_score(y_train_1,x_pred_1)]], axis = 1)\n",
    "    m = np.append(m, [[accuracy_score(y_test_1,y_pred_1)]], axis = 1)\n",
    "    m = np.append(m, [[precision_score(y_test_1,y_pred_1,average='weighted')]], axis = 1)\n",
    "    m = np.append(m, [[recall_score(y_test_1,y_pred_1,average='weighted')]], axis = 1)\n",
    "    m = np.append(m, [[f1_score(y_test_1,y_pred_1,average='weighted')]], axis = 1)\n",
    "    \n",
    "    ##Decision Tree 2 with information gain and limited tree size  \n",
    "    x_train_2, x_test_2, y_train_2, y_test_2 = train_test_split(x, y, test_size = 0.3)\n",
    "    classifier_2 = DecisionTreeClassifier(criterion = 'entropy', max_depth = 4)\n",
    "    classifier_2.fit(x_train_2, y_train_2)\n",
    "    x_pred_2 = classifier_2.predict(x_train_2)\n",
    "    y_pred_2 = classifier_2.predict(x_test_2)\n",
    "    \n",
    "    m = np.append(m, [[accuracy_score(y_train_2,x_pred_2)]], axis = 1)\n",
    "    m = np.append(m, [[accuracy_score(y_test_2,y_pred_2)]], axis = 1)\n",
    "    m = np.append(m, [[precision_score(y_test_2,y_pred_2,average='weighted')]], axis = 1)\n",
    "    m = np.append(m, [[recall_score(y_test_2,y_pred_2,average='weighted')]], axis = 1)\n",
    "    m = np.append(m, [[f1_score(y_test_2,y_pred_2,average='weighted')]], axis = 1)\n",
    "    Performance_Result = np.concatenate((Performance_Result,m),axis=0)\n",
    "\n"
   ]
  },
  {
   "cell_type": "markdown",
   "metadata": {},
   "source": [
    "## Calculating the average performances"
   ]
  },
  {
   "cell_type": "code",
   "execution_count": 4,
   "metadata": {},
   "outputs": [
    {
     "data": {
      "text/html": [
       "<div>\n",
       "<style scoped>\n",
       "    .dataframe tbody tr th:only-of-type {\n",
       "        vertical-align: middle;\n",
       "    }\n",
       "\n",
       "    .dataframe tbody tr th {\n",
       "        vertical-align: top;\n",
       "    }\n",
       "\n",
       "    .dataframe thead th {\n",
       "        text-align: right;\n",
       "    }\n",
       "</style>\n",
       "<table border=\"1\" class=\"dataframe\">\n",
       "  <thead>\n",
       "    <tr style=\"text-align: right;\">\n",
       "      <th></th>\n",
       "      <th>Training</th>\n",
       "      <th>Test</th>\n",
       "      <th>Precision</th>\n",
       "      <th>Recall</th>\n",
       "      <th>F1 scores</th>\n",
       "    </tr>\n",
       "  </thead>\n",
       "  <tbody>\n",
       "    <tr>\n",
       "      <th>DT 1</th>\n",
       "      <td>1.00000</td>\n",
       "      <td>0.925439</td>\n",
       "      <td>0.927220</td>\n",
       "      <td>0.925439</td>\n",
       "      <td>0.925561</td>\n",
       "    </tr>\n",
       "    <tr>\n",
       "      <th>DT 2</th>\n",
       "      <td>0.98505</td>\n",
       "      <td>0.936257</td>\n",
       "      <td>0.937572</td>\n",
       "      <td>0.936257</td>\n",
       "      <td>0.936073</td>\n",
       "    </tr>\n",
       "  </tbody>\n",
       "</table>\n",
       "</div>"
      ],
      "text/plain": [
       "      Training      Test  Precision    Recall  F1 scores\n",
       "DT 1   1.00000  0.925439   0.927220  0.925439   0.925561\n",
       "DT 2   0.98505  0.936257   0.937572  0.936257   0.936073"
      ]
     },
     "execution_count": 4,
     "metadata": {},
     "output_type": "execute_result"
    }
   ],
   "source": [
    "df = pd.DataFrame([Performance_Result.mean(axis = 0)[0 : 5],Performance_Result.mean(axis = 0)[5 : 10]],\n",
    "                  index = ['DT 1','DT 2'], columns = ['Training','Test','Precision','Recall','F1 scores'])\n",
    "df\n"
   ]
  },
  {
   "cell_type": "code",
   "execution_count": null,
   "metadata": {},
   "outputs": [],
   "source": []
  }
 ],
 "metadata": {
  "kernelspec": {
   "display_name": "Python 3",
   "language": "python",
   "name": "python3"
  },
  "language_info": {
   "codemirror_mode": {
    "name": "ipython",
    "version": 3
   },
   "file_extension": ".py",
   "mimetype": "text/x-python",
   "name": "python",
   "nbconvert_exporter": "python",
   "pygments_lexer": "ipython3",
   "version": "3.8.3"
  }
 },
 "nbformat": 4,
 "nbformat_minor": 4
}
